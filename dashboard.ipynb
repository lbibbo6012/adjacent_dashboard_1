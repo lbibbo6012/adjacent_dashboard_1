{
 "cells": [
  {
   "cell_type": "code",
   "execution_count": null,
   "metadata": {},
   "outputs": [
    {
     "name": "stdout",
     "output_type": "stream",
     "text": [
      "Collecting ndjson\n",
      "  Downloading ndjson-0.3.1-py2.py3-none-any.whl (5.3 kB)\n",
      "Installing collected packages: ndjson\n",
      "Successfully installed ndjson-0.3.1\n",
      "Note: you may need to restart the kernel to use updated packages.\n"
     ]
    }
   ],
   "source": [
    "pip install ndjson"
   ]
  },
  {
   "cell_type": "code",
   "execution_count": 39,
   "metadata": {},
   "outputs": [
    {
     "name": "stdout",
     "output_type": "stream",
     "text": [
      "Collecting streamlit\n",
      "  Downloading streamlit-1.42.2-py2.py3-none-any.whl (9.6 MB)\n",
      "\u001b[K     |████████████████████████████████| 9.6 MB 45.2 MB/s eta 0:00:01\n",
      "\u001b[?25hCollecting altair<6,>=4.0\n",
      "  Downloading altair-5.5.0-py3-none-any.whl (731 kB)\n",
      "\u001b[K     |████████████████████████████████| 731 kB 26.7 MB/s eta 0:00:01\n",
      "\u001b[?25hRequirement already satisfied: toml<2,>=0.10.1 in /Users/lenabibbo/opt/anaconda3/lib/python3.9/site-packages (from streamlit) (0.10.2)\n",
      "Collecting gitpython!=3.1.19,<4,>=3.0.7\n",
      "  Downloading GitPython-3.1.44-py3-none-any.whl (207 kB)\n",
      "\u001b[K     |████████████████████████████████| 207 kB 22.5 MB/s eta 0:00:01\n",
      "\u001b[?25hRequirement already satisfied: requests<3,>=2.27 in /Users/lenabibbo/opt/anaconda3/lib/python3.9/site-packages (from streamlit) (2.27.1)\n",
      "Requirement already satisfied: typing-extensions<5,>=4.4.0 in /Users/lenabibbo/opt/anaconda3/lib/python3.9/site-packages (from streamlit) (4.9.0)\n",
      "Requirement already satisfied: tornado<7,>=6.0.3 in /Users/lenabibbo/opt/anaconda3/lib/python3.9/site-packages (from streamlit) (6.1)\n",
      "Collecting protobuf<6,>=3.20\n",
      "  Downloading protobuf-5.29.3-cp38-abi3-macosx_10_9_universal2.whl (417 kB)\n",
      "\u001b[K     |████████████████████████████████| 417 kB 40.1 MB/s eta 0:00:01\n",
      "\u001b[?25hRequirement already satisfied: pillow<12,>=7.1.0 in /Users/lenabibbo/opt/anaconda3/lib/python3.9/site-packages (from streamlit) (9.0.1)\n",
      "Collecting blinker<2,>=1.0.0\n",
      "  Downloading blinker-1.9.0-py3-none-any.whl (8.5 kB)\n",
      "Requirement already satisfied: pandas<3,>=1.4.0 in /Users/lenabibbo/opt/anaconda3/lib/python3.9/site-packages (from streamlit) (1.4.2)\n",
      "Collecting tenacity<10,>=8.1.0\n",
      "  Downloading tenacity-9.0.0-py3-none-any.whl (28 kB)\n",
      "Collecting pydeck<1,>=0.8.0b4\n",
      "  Downloading pydeck-0.9.1-py2.py3-none-any.whl (6.9 MB)\n",
      "\u001b[K     |████████████████████████████████| 6.9 MB 50.9 MB/s eta 0:00:01\n",
      "\u001b[?25hRequirement already satisfied: packaging<25,>=20 in /Users/lenabibbo/opt/anaconda3/lib/python3.9/site-packages (from streamlit) (21.3)\n",
      "Collecting rich<14,>=10.14.0\n",
      "  Downloading rich-13.9.4-py3-none-any.whl (242 kB)\n",
      "\u001b[K     |████████████████████████████████| 242 kB 8.4 MB/s eta 0:00:01\n",
      "\u001b[?25hRequirement already satisfied: numpy<3,>=1.23 in /Users/lenabibbo/opt/anaconda3/lib/python3.9/site-packages (from streamlit) (1.26.0)\n",
      "Collecting pyarrow>=7.0\n",
      "  Downloading pyarrow-19.0.1-cp39-cp39-macosx_12_0_arm64.whl (30.7 MB)\n",
      "\u001b[K     |████████████████████████████████| 30.7 MB 1.3 MB/s eta 0:00:01120.4 MB 35.3 MB/s eta 0:00:01     |██████████████████████          | 21.1 MB 35.3 MB/s eta 0:00:01\n",
      "\u001b[?25hRequirement already satisfied: click<9,>=7.0 in /Users/lenabibbo/opt/anaconda3/lib/python3.9/site-packages (from streamlit) (8.0.4)\n",
      "Collecting cachetools<6,>=4.0\n",
      "  Downloading cachetools-5.5.2-py3-none-any.whl (10 kB)\n",
      "Collecting typing-extensions<5,>=4.4.0\n",
      "  Downloading typing_extensions-4.12.2-py3-none-any.whl (37 kB)\n",
      "Requirement already satisfied: jinja2 in /Users/lenabibbo/opt/anaconda3/lib/python3.9/site-packages (from altair<6,>=4.0->streamlit) (2.11.3)\n",
      "Requirement already satisfied: jsonschema>=3.0 in /Users/lenabibbo/opt/anaconda3/lib/python3.9/site-packages (from altair<6,>=4.0->streamlit) (4.4.0)\n",
      "Collecting narwhals>=1.14.2\n",
      "  Downloading narwhals-1.28.0-py3-none-any.whl (308 kB)\n",
      "\u001b[K     |████████████████████████████████| 308 kB 12.4 MB/s eta 0:00:01\n",
      "\u001b[?25hCollecting gitdb<5,>=4.0.1\n",
      "  Downloading gitdb-4.0.12-py3-none-any.whl (62 kB)\n",
      "\u001b[K     |████████████████████████████████| 62 kB 1.5 MB/s eta 0:00:01\n",
      "\u001b[?25hCollecting smmap<6,>=3.0.1\n",
      "  Downloading smmap-5.0.2-py3-none-any.whl (24 kB)\n",
      "Requirement already satisfied: pyrsistent!=0.17.0,!=0.17.1,!=0.17.2,>=0.14.0 in /Users/lenabibbo/opt/anaconda3/lib/python3.9/site-packages (from jsonschema>=3.0->altair<6,>=4.0->streamlit) (0.18.0)\n",
      "Requirement already satisfied: attrs>=17.4.0 in /Users/lenabibbo/opt/anaconda3/lib/python3.9/site-packages (from jsonschema>=3.0->altair<6,>=4.0->streamlit) (21.4.0)\n",
      "Requirement already satisfied: pyparsing!=3.0.5,>=2.0.2 in /Users/lenabibbo/opt/anaconda3/lib/python3.9/site-packages (from packaging<25,>=20->streamlit) (3.0.4)\n",
      "Requirement already satisfied: python-dateutil>=2.8.1 in /Users/lenabibbo/opt/anaconda3/lib/python3.9/site-packages (from pandas<3,>=1.4.0->streamlit) (2.8.2)\n",
      "Requirement already satisfied: pytz>=2020.1 in /Users/lenabibbo/opt/anaconda3/lib/python3.9/site-packages (from pandas<3,>=1.4.0->streamlit) (2021.3)\n",
      "Requirement already satisfied: MarkupSafe>=0.23 in /Users/lenabibbo/opt/anaconda3/lib/python3.9/site-packages (from jinja2->altair<6,>=4.0->streamlit) (2.0.1)\n",
      "Requirement already satisfied: six>=1.5 in /Users/lenabibbo/opt/anaconda3/lib/python3.9/site-packages (from python-dateutil>=2.8.1->pandas<3,>=1.4.0->streamlit) (1.16.0)\n",
      "Requirement already satisfied: charset-normalizer~=2.0.0 in /Users/lenabibbo/opt/anaconda3/lib/python3.9/site-packages (from requests<3,>=2.27->streamlit) (2.0.4)\n",
      "Requirement already satisfied: urllib3<1.27,>=1.21.1 in /Users/lenabibbo/opt/anaconda3/lib/python3.9/site-packages (from requests<3,>=2.27->streamlit) (1.26.9)\n",
      "Requirement already satisfied: idna<4,>=2.5 in /Users/lenabibbo/opt/anaconda3/lib/python3.9/site-packages (from requests<3,>=2.27->streamlit) (3.3)\n",
      "Requirement already satisfied: certifi>=2017.4.17 in /Users/lenabibbo/opt/anaconda3/lib/python3.9/site-packages (from requests<3,>=2.27->streamlit) (2022.5.18.1)\n",
      "Collecting markdown-it-py>=2.2.0\n",
      "  Downloading markdown_it_py-3.0.0-py3-none-any.whl (87 kB)\n",
      "\u001b[K     |████████████████████████████████| 87 kB 8.6 MB/s  eta 0:00:01\n",
      "\u001b[?25hCollecting pygments<3.0.0,>=2.13.0\n",
      "  Downloading pygments-2.19.1-py3-none-any.whl (1.2 MB)\n",
      "\u001b[K     |████████████████████████████████| 1.2 MB 17.7 MB/s eta 0:00:01\n",
      "\u001b[?25hCollecting mdurl~=0.1\n",
      "  Downloading mdurl-0.1.2-py3-none-any.whl (10.0 kB)\n",
      "Installing collected packages: smmap, mdurl, typing-extensions, pygments, narwhals, markdown-it-py, gitdb, tenacity, rich, pydeck, pyarrow, protobuf, gitpython, cachetools, blinker, altair, streamlit\n",
      "  Attempting uninstall: typing-extensions\n",
      "    Found existing installation: typing-extensions 4.9.0\n",
      "    Uninstalling typing-extensions-4.9.0:\n",
      "      Successfully uninstalled typing-extensions-4.9.0\n",
      "  Attempting uninstall: pygments\n",
      "    Found existing installation: Pygments 2.11.2\n",
      "    Uninstalling Pygments-2.11.2:\n",
      "      Successfully uninstalled Pygments-2.11.2\n",
      "  Attempting uninstall: tenacity\n",
      "    Found existing installation: tenacity 8.0.1\n",
      "    Uninstalling tenacity-8.0.1:\n",
      "      Successfully uninstalled tenacity-8.0.1\n",
      "\u001b[31mERROR: pip's dependency resolver does not currently take into account all the packages that are installed. This behaviour is the source of the following dependency conflicts.\n",
      "pylint 2.12.2 requires mccabe<0.7,>=0.6, but you have mccabe 0.7.0 which is incompatible.\u001b[0m\n",
      "Successfully installed altair-5.5.0 blinker-1.9.0 cachetools-5.5.2 gitdb-4.0.12 gitpython-3.1.44 markdown-it-py-3.0.0 mdurl-0.1.2 narwhals-1.28.0 protobuf-5.29.3 pyarrow-19.0.1 pydeck-0.9.1 pygments-2.19.1 rich-13.9.4 smmap-5.0.2 streamlit-1.42.2 tenacity-9.0.0 typing-extensions-4.12.2\n",
      "Note: you may need to restart the kernel to use updated packages.\n"
     ]
    }
   ],
   "source": [
    "pip install streamlit"
   ]
  },
  {
   "cell_type": "code",
   "execution_count": 25,
   "metadata": {},
   "outputs": [],
   "source": [
    "\n",
    "import json\n",
    "import pandas as pd\n",
    "import regex as re\n",
    "import ndjson\n",
    "import streamlit as st\n",
    "import pandas as pd\n",
    "import matplotlib.pyplot as plt"
   ]
  },
  {
   "cell_type": "code",
   "execution_count": 26,
   "metadata": {},
   "outputs": [],
   "source": [
    "# Load data\n",
    "drive_path = 'export_All-Project-Cards_2025-02-21_16-50-28.ndjson'\n",
    "with open(drive_path, 'r') as f:\n",
    "    data = ndjson.load(f)\n",
    "\n",
    "# Convert to DataFrame\n",
    "df = pd.DataFrame(data)"
   ]
  },
  {
   "cell_type": "code",
   "execution_count": 27,
   "metadata": {},
   "outputs": [
    {
     "data": {
      "text/html": [
       "<div>\n",
       "<style scoped>\n",
       "    .dataframe tbody tr th:only-of-type {\n",
       "        vertical-align: middle;\n",
       "    }\n",
       "\n",
       "    .dataframe tbody tr th {\n",
       "        vertical-align: top;\n",
       "    }\n",
       "\n",
       "    .dataframe thead th {\n",
       "        text-align: right;\n",
       "    }\n",
       "</style>\n",
       "<table border=\"1\" class=\"dataframe\">\n",
       "  <thead>\n",
       "    <tr style=\"text-align: right;\">\n",
       "      <th></th>\n",
       "      <th>Blocked</th>\n",
       "      <th>Commercialization</th>\n",
       "      <th>Commercialization Pathways</th>\n",
       "      <th>Community</th>\n",
       "      <th>Dynamic Link</th>\n",
       "      <th>Field of Interest (text)</th>\n",
       "      <th>Followers (Received)</th>\n",
       "    </tr>\n",
       "  </thead>\n",
       "  <tbody>\n",
       "    <tr>\n",
       "      <th>0</th>\n",
       "      <td>magnus@gmail.com</td>\n",
       "      <td></td>\n",
       "      <td></td>\n",
       "      <td>Adjacent</td>\n",
       "      <td>https://adjacent.page.link/nWZPDGa1c2q4EBpK7</td>\n",
       "      <td>Community Building , Information Science , Fut...</td>\n",
       "      <td>275</td>\n",
       "    </tr>\n",
       "    <tr>\n",
       "      <th>1</th>\n",
       "      <td></td>\n",
       "      <td></td>\n",
       "      <td></td>\n",
       "      <td>Adjacent</td>\n",
       "      <td></td>\n",
       "      <td>Art</td>\n",
       "      <td>10</td>\n",
       "    </tr>\n",
       "    <tr>\n",
       "      <th>2</th>\n",
       "      <td></td>\n",
       "      <td></td>\n",
       "      <td></td>\n",
       "      <td>Adjacent</td>\n",
       "      <td></td>\n",
       "      <td>Food</td>\n",
       "      <td>7</td>\n",
       "    </tr>\n",
       "    <tr>\n",
       "      <th>3</th>\n",
       "      <td></td>\n",
       "      <td></td>\n",
       "      <td></td>\n",
       "      <td>Adjacent</td>\n",
       "      <td>https://adjacent.page.link/FLqtvSHo4bPwLWdn8</td>\n",
       "      <td>Technology Development</td>\n",
       "      <td>4</td>\n",
       "    </tr>\n",
       "    <tr>\n",
       "      <th>4</th>\n",
       "      <td></td>\n",
       "      <td></td>\n",
       "      <td></td>\n",
       "      <td>Adjacent</td>\n",
       "      <td></td>\n",
       "      <td></td>\n",
       "      <td>0</td>\n",
       "    </tr>\n",
       "  </tbody>\n",
       "</table>\n",
       "</div>"
      ],
      "text/plain": [
       "            Blocked Commercialization Commercialization Pathways Community  \\\n",
       "0  magnus@gmail.com                                               Adjacent   \n",
       "1                                                                 Adjacent   \n",
       "2                                                                 Adjacent   \n",
       "3                                                                 Adjacent   \n",
       "4                                                                 Adjacent   \n",
       "\n",
       "                                   Dynamic Link  \\\n",
       "0  https://adjacent.page.link/nWZPDGa1c2q4EBpK7   \n",
       "1                                                 \n",
       "2                                                 \n",
       "3  https://adjacent.page.link/FLqtvSHo4bPwLWdn8   \n",
       "4                                                 \n",
       "\n",
       "                            Field of Interest (text) Followers (Received)  \n",
       "0  Community Building , Information Science , Fut...                  275  \n",
       "1                                                Art                   10  \n",
       "2                                               Food                    7  \n",
       "3                             Technology Development                    4  \n",
       "4                                                                       0  "
      ]
     },
     "execution_count": 27,
     "metadata": {},
     "output_type": "execute_result"
    }
   ],
   "source": [
    "df.head()"
   ]
  },
  {
   "cell_type": "code",
   "execution_count": 28,
   "metadata": {},
   "outputs": [],
   "source": [
    "\n",
    "# Replace NA/None with empty strings\n",
    "df.fillna(\"\", inplace=True)\n",
    "\n",
    "# Clean and standardize data\n",
    "for col in df.select_dtypes(include=[\"object\"]).columns:\n",
    "    df[col] = df[col].str.lower().str.strip()\n",
    "\n",
    "# Remove commas from 'Field of Interest (text)'\n",
    "if 'Field of Interest (text)' in df.columns:\n",
    "    df['Field of Interest (text)'] = df['Field of Interest (text)'].str.replace(\",\", \"\")\n",
    "\n",
    "# Remove duplicates\n",
    "df.drop_duplicates(inplace=True)\n",
    "\n",
    "# Validate and clean URLs in 'Dynamic Link'\n",
    "if 'Dynamic Link' in df.columns:\n",
    "    df['Dynamic Link'] = df['Dynamic Link'].apply(\n",
    "        lambda x: x if re.match(r'^https?:\\/\\/\\S+$', x) else \"\"\n",
    "    )\n",
    "\n",
    "# Extract city, state, and country from 'Location'\n",
    "if 'Location' in df.columns:\n",
    "    def parse_location(location):\n",
    "        parts = location.split(\", \")\n",
    "        city = parts[0] if len(parts) > 0 else \"\"\n",
    "        state = parts[1] if len(parts) > 1 else \"\"\n",
    "        country = parts[-1] if len(parts) > 2 else state\n",
    "        return pd.Series({\"City\": city, \"State\": state, \"Country\": country})\n",
    "\n",
    "    location_split = df['Location'].apply(parse_location)\n",
    "    df = pd.concat([df, location_split], axis=1)"
   ]
  },
  {
   "cell_type": "code",
   "execution_count": 29,
   "metadata": {},
   "outputs": [
    {
     "data": {
      "text/html": [
       "<div>\n",
       "<style scoped>\n",
       "    .dataframe tbody tr th:only-of-type {\n",
       "        vertical-align: middle;\n",
       "    }\n",
       "\n",
       "    .dataframe tbody tr th {\n",
       "        vertical-align: top;\n",
       "    }\n",
       "\n",
       "    .dataframe thead th {\n",
       "        text-align: right;\n",
       "    }\n",
       "</style>\n",
       "<table border=\"1\" class=\"dataframe\">\n",
       "  <thead>\n",
       "    <tr style=\"text-align: right;\">\n",
       "      <th></th>\n",
       "      <th>Blocked</th>\n",
       "      <th>Commercialization</th>\n",
       "      <th>Commercialization Pathways</th>\n",
       "      <th>Community</th>\n",
       "      <th>Dynamic Link</th>\n",
       "      <th>Field of Interest (text)</th>\n",
       "      <th>Followers (Received)</th>\n",
       "    </tr>\n",
       "  </thead>\n",
       "  <tbody>\n",
       "    <tr>\n",
       "      <th>0</th>\n",
       "      <td>magnus@gmail.com</td>\n",
       "      <td></td>\n",
       "      <td></td>\n",
       "      <td>adjacent</td>\n",
       "      <td>https://adjacent.page.link/nwzpdga1c2q4ebpk7</td>\n",
       "      <td>community building  information science  futur...</td>\n",
       "      <td>275</td>\n",
       "    </tr>\n",
       "    <tr>\n",
       "      <th>1</th>\n",
       "      <td></td>\n",
       "      <td></td>\n",
       "      <td></td>\n",
       "      <td>adjacent</td>\n",
       "      <td></td>\n",
       "      <td>art</td>\n",
       "      <td>10</td>\n",
       "    </tr>\n",
       "    <tr>\n",
       "      <th>2</th>\n",
       "      <td></td>\n",
       "      <td></td>\n",
       "      <td></td>\n",
       "      <td>adjacent</td>\n",
       "      <td></td>\n",
       "      <td>food</td>\n",
       "      <td>7</td>\n",
       "    </tr>\n",
       "    <tr>\n",
       "      <th>3</th>\n",
       "      <td></td>\n",
       "      <td></td>\n",
       "      <td></td>\n",
       "      <td>adjacent</td>\n",
       "      <td>https://adjacent.page.link/flqtvsho4bpwlwdn8</td>\n",
       "      <td>technology development</td>\n",
       "      <td>4</td>\n",
       "    </tr>\n",
       "    <tr>\n",
       "      <th>4</th>\n",
       "      <td></td>\n",
       "      <td></td>\n",
       "      <td></td>\n",
       "      <td>adjacent</td>\n",
       "      <td></td>\n",
       "      <td></td>\n",
       "      <td>0</td>\n",
       "    </tr>\n",
       "  </tbody>\n",
       "</table>\n",
       "</div>"
      ],
      "text/plain": [
       "            Blocked Commercialization Commercialization Pathways Community  \\\n",
       "0  magnus@gmail.com                                               adjacent   \n",
       "1                                                                 adjacent   \n",
       "2                                                                 adjacent   \n",
       "3                                                                 adjacent   \n",
       "4                                                                 adjacent   \n",
       "\n",
       "                                   Dynamic Link  \\\n",
       "0  https://adjacent.page.link/nwzpdga1c2q4ebpk7   \n",
       "1                                                 \n",
       "2                                                 \n",
       "3  https://adjacent.page.link/flqtvsho4bpwlwdn8   \n",
       "4                                                 \n",
       "\n",
       "                            Field of Interest (text) Followers (Received)  \n",
       "0  community building  information science  futur...                  275  \n",
       "1                                                art                   10  \n",
       "2                                               food                    7  \n",
       "3                             technology development                    4  \n",
       "4                                                                       0  "
      ]
     },
     "execution_count": 29,
     "metadata": {},
     "output_type": "execute_result"
    }
   ],
   "source": [
    "df.head()"
   ]
  },
  {
   "cell_type": "code",
   "execution_count": 30,
   "metadata": {},
   "outputs": [
    {
     "data": {
      "text/plain": [
       "'community building  information science  future building  tech  design'"
      ]
     },
     "execution_count": 30,
     "metadata": {},
     "output_type": "execute_result"
    }
   ],
   "source": [
    "df['Field of Interest (text)'][0]"
   ]
  },
  {
   "cell_type": "code",
   "execution_count": 33,
   "metadata": {},
   "outputs": [],
   "source": [
    "df['Field of Interests Lists'] = df['Field of Interest (text)'].str.split('  ')"
   ]
  },
  {
   "cell_type": "code",
   "execution_count": 35,
   "metadata": {},
   "outputs": [
    {
     "data": {
      "text/plain": [
       "[]                                                                                                                         7\n",
       "[medicine/health]                                                                                                          2\n",
       "[fintech]                                                                                                                  2\n",
       "[community building, information science, future building, tech, design]                                                   1\n",
       "[communication/media, future building]                                                                                     1\n",
       "[chemistry, civil engineering]                                                                                             1\n",
       "[art & music]                                                                                                              1\n",
       "[community building, biology, chemistry]                                                                                   1\n",
       "[business]                                                                                                                 1\n",
       "[ai/ml, software,  tech, mechanical engineering, electrical engineering]                                                   1\n",
       "[outsourcing, offshoring, business development]                                                                            1\n",
       "[community building, sustainability]                                                                                       1\n",
       "[business, community building, communication/media, design]                                                                1\n",
       "[community building, user experience]                                                                                      1\n",
       "[design]                                                                                                                   1\n",
       "[data science]                                                                                                             1\n",
       "[therapy, world peace]                                                                                                     1\n",
       "[work management, productivity]                                                                                            1\n",
       "[business development, medicine, medicine/health]                                                                          1\n",
       "[tech]                                                                                                                     1\n",
       "[finance, tech]                                                                                                            1\n",
       "[tech, investment]                                                                                                         1\n",
       "[startups, fintech]                                                                                                        1\n",
       "[renewable energy, wind technology]                                                                                        1\n",
       "[art, biology, community building, equitable development, performing arts, sustainability, urban planning, visual arts]    1\n",
       "[art, environmental science]                                                                                               1\n",
       "[art]                                                                                                                      1\n",
       "[community building]                                                                                                       1\n",
       "[food]                                                                                                                     1\n",
       "[technology development]                                                                                                   1\n",
       "[medicine, sociology, psychology]                                                                                          1\n",
       "[online rental]                                                                                                            1\n",
       "[community building, business]                                                                                             1\n",
       "[psychedelictherapy, therapy]                                                                                              1\n",
       "[fintech,  world peace, community building, economics, business, computer science, finance, mathematics]                   1\n",
       "[architecture]                                                                                                             1\n",
       "[business, computer science, restaurants, cooking, food]                                                                   1\n",
       "[communication/media, design, marketing, ai/ml]                                                                            1\n",
       "[technology development, ai/ml, restaurants, business]                                                                     1\n",
       "[community building, education, equitable development, information science]                                                1\n",
       "[medicine/health, psychology, technology development, community building, computer science, education]                     1\n",
       "[computer science]                                                                                                         1\n",
       "[agriculture, architecture, community building, medicine/health, urban planning]                                           1\n",
       "[community building, equitable development, unions]                                                                        1\n",
       "[community building, economics, equitable development, technology development]                                             1\n",
       "[astronomy, business, economics, technology development]                                                                   1\n",
       "[computer science, philosophy, psychology]                                                                                 1\n",
       "[science, video production, tech, finance, user experience]                                                                1\n",
       "Name: Field of Interests Lists, dtype: int64"
      ]
     },
     "execution_count": 35,
     "metadata": {},
     "output_type": "execute_result"
    }
   ],
   "source": [
    "df['Field of Interests Lists'].value_counts()"
   ]
  },
  {
   "cell_type": "code",
   "execution_count": 20,
   "metadata": {},
   "outputs": [
    {
     "data": {
      "image/png": "[encoded data removed]",
      "text/plain": [
       "<Figure size 432x288 with 1 Axes>"
      ]
     },
     "metadata": {
      "needs_background": "light"
     },
     "output_type": "display_data"
    },
    {
     "name": "stderr",
     "output_type": "stream",
     "text": [
      "2025-02-27 14:32:53.395 Thread 'MainThread': missing ScriptRunContext! This warning can be ignored when running in bare mode.\n",
      "2025-02-27 14:32:54.307 Thread 'MainThread': missing ScriptRunContext! This warning can be ignored when running in bare mode.\n",
      "2025-02-27 14:32:54.310 Thread 'MainThread': missing ScriptRunContext! This warning can be ignored when running in bare mode.\n"
     ]
    },
    {
     "data": {
      "text/plain": [
       "DeltaGenerator()"
      ]
     },
     "execution_count": 20,
     "metadata": {},
     "output_type": "execute_result"
    }
   ],
   "source": [
    "word_counts = pd.Series([word for sublist in df['Field of Interests Lists'] for word in sublist]).value_counts()\n",
    "\n",
    "# Create bar chart\n",
    "fig, ax = plt.subplots()\n",
    "word_counts.plot(kind='bar', color='skyblue', ax=ax)\n",
    "ax.set_xlabel(\"Words\")\n",
    "ax.set_ylabel(\"Count\")\n",
    "ax.set_title(\"Word Occurrences in Field of Interest\")\n",
    "plt.show()\n",
    "\n",
    "st.pyplot(fig)"
   ]
  },
  {
   "cell_type": "code",
   "execution_count": null,
   "metadata": {},
   "outputs": [],
   "source": []
  }
 ],
 "metadata": {
  "kernelspec": {
   "display_name": "base",
   "language": "python",
   "name": "python3"
  },
  "language_info": {
   "codemirror_mode": {
    "name": "ipython",
    "version": 3
   },
   "file_extension": ".py",
   "mimetype": "text/x-python",
   "name": "python",
   "nbconvert_exporter": "python",
   "pygments_lexer": "ipython3",
   "version": "3.9.12"
  }
 },
 "nbformat": 4,
 "nbformat_minor": 2
}
